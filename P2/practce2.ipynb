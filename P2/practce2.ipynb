{
 "cells": [
  {
   "cell_type": "code",
   "execution_count": 4,
   "metadata": {},
   "outputs": [],
   "source": [
    "import numpy as np\n",
    "import matplotlib.pyplot as plt"
   ]
  },
  {
   "cell_type": "code",
   "execution_count": 11,
   "metadata": {},
   "outputs": [
    {
     "data": {
      "image/png": "[encoded data removed]",
      "text/plain": [
       "<Figure size 432x288 with 1 Axes>"
      ]
     },
     "metadata": {
      "needs_background": "light"
     },
     "output_type": "display_data"
    }
   ],
   "source": [
    "def draw_square(x, size):\n",
    "    p1 = ( size/2,  size/2)\n",
    "    p2 = (-size/2,  size/2)\n",
    "    p3 = (-size/2, -size/2)\n",
    "    p4 = ( size/2, -size/2)\n",
    "\n",
    "    square = np.array((p1, p2, p3, p4, p1))\n",
    "    plt.plot(square.T[0], square.T[1])\n",
    "\n",
    "def draw_triangle(x, base, height):\n",
    "    r = (base * height) / (base + np.sqrt(4 * height**2 + base ** 2))\n",
    "    p1 = (0, height - r)\n",
    "    p2 = (-base/2, -r)\n",
    "    p3 = ( base/2, -r)\n",
    "\n",
    "    triangle = np.array((p1, p2, p3, p1))\n",
    "    plt.plot(triangle.T[0], triangle.T[1])\n",
    "\n",
    "draw_square(0, 5)\n",
    "draw_triangle(0, 3, 4)\n"
   ]
  }
 ],
 "metadata": {
  "interpreter": {
   "hash": "916dbcbb3f70747c44a77c7bcd40155683ae19c65e1c03b4aa3499c5328201f1"
  },
  "kernelspec": {
   "display_name": "Python 3.8.10 64-bit",
   "language": "python",
   "name": "python3"
  },
  "language_info": {
   "codemirror_mode": {
    "name": "ipython",
    "version": 3
   },
   "file_extension": ".py",
   "mimetype": "text/x-python",
   "name": "python",
   "nbconvert_exporter": "python",
   "pygments_lexer": "ipython3",
   "version": "3.8.10"
  },
  "orig_nbformat": 4
 },
 "nbformat": 4,
 "nbformat_minor": 2
}
