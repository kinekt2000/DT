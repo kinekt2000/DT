{
 "cells": [
  {
   "cell_type": "markdown",
   "metadata": {},
   "source": [
    "# Practice 1"
   ]
  },
  {
   "cell_type": "markdown",
   "metadata": {},
   "source": [
    "## Гришин Константин 8303"
   ]
  },
  {
   "cell_type": "code",
   "execution_count": 1,
   "metadata": {},
   "outputs": [],
   "source": [
    "import numpy as np\n",
    "import pandas as pd\n",
    "\n",
    "from scipy.optimize import linprog\n",
    "\n",
    "import matplotlib.pyplot as plt\n",
    "\n",
    "from functools import reduce"
   ]
  },
  {
   "cell_type": "code",
   "execution_count": 2,
   "metadata": {},
   "outputs": [],
   "source": [
    "# 1.4.3\n",
    "C1 = np.array([\n",
    "    [2, 2, 6, 5],\n",
    "    [3, 3, 7, 7],\n",
    "    [4, 3, 4, 2],\n",
    "    [5, 6, 2, 4],\n",
    "])\n",
    "\n",
    "# 1.5.3\n",
    "C2 = np.array([\n",
    "    [2, 7],\n",
    "    [4, 3],\n",
    "])\n",
    "\n",
    "# 1.6.3\n",
    "C3 = np.array([\n",
    "    [3, 6, 1, 4, 2],\n",
    "    [5, 2, 4, 2, 7],\n",
    "])\n",
    "\n",
    "# 1.7.3\n",
    "C4 = np.array([\n",
    "    [4, 8],\n",
    "    [3, 4],\n",
    "    [6, 5],\n",
    "    [7, 2],\n",
    "    [6, 3],\n",
    "])\n",
    "\n",
    "# 1.8.3\n",
    "C5 = np.array([\n",
    "    [2, 1, 3],\n",
    "    [5, 2, 4],\n",
    "    [3, 7, 5],\n",
    "])\n",
    "\n",
    "\n",
    "def intersection(a1, a2, b1, b2):\n",
    "    x1, x2, x3, x4 = a1[0], a2[0], b1[0], b2[0]\n",
    "    y1, y2, y3, y4 = a1[1], a2[1], b1[1], b2[1]\n",
    "\n",
    "    d = (x1-x2)*(y3-y4)-(y1-y2)*(x3-x4)\n",
    "    t = ((x1-x3)*(y3-y4)-(y1-y3)*(x3-x4))/d\n",
    "    u = ((x1-x3)*(y1-y2)-(y1-y3)*(x1-x2))/d\n",
    "\n",
    "    if 0.0<=t<=1.0 and 0.0<=u<=1.0:\n",
    "        return (x1+t*(x2-x1), y1+t*(y2-y1))\n",
    "    return None\n",
    "\n",
    "\n",
    "\n",
    "def draw_to_x_axes(point, fmt=\"-\"):\n",
    "    plt.plot((point[0], point[0]), (point[1], 0), fmt)\n",
    "\n",
    "def draw_to_y_axes(point, fmt=\"-\"):\n",
    "    plt.plot((point[0], 0), (point[1], point[1]), fmt)\n",
    "\n",
    "def point_side(a1, a2, point):\n",
    "    v1 = (a2[0] - a1[0], a2[1] - a1[1])\n",
    "    v2 = (point[0] - a1[0], point[1] - a1[1])\n",
    "    xp = v1[0]*v2[1]-v1[1]*v2[0]\n",
    "    if abs(xp) < 0.00001: return 0\n",
    "    elif xp > 0: return 1\n",
    "    elif xp < 0: return -1\n",
    "    return 0\n",
    "\n",
    "def calculate_error(approx, real):\n",
    "    return np.abs(approx - real) / real\n"
   ]
  },
  {
   "cell_type": "markdown",
   "metadata": {},
   "source": [
    "## Определеить границы выигрыша и наличие седловой точки С1"
   ]
  },
  {
   "cell_type": "code",
   "execution_count": 3,
   "metadata": {},
   "outputs": [
    {
     "data": {
      "text/plain": [
       "array([[2, 2, 6, 5],\n",
       "       [3, 3, 7, 7],\n",
       "       [4, 3, 4, 2],\n",
       "       [5, 6, 2, 4]])"
      ]
     },
     "execution_count": 3,
     "metadata": {},
     "output_type": "execute_result"
    }
   ],
   "source": [
    "C1"
   ]
  },
  {
   "cell_type": "code",
   "execution_count": 4,
   "metadata": {},
   "outputs": [],
   "source": [
    "def matrix_limits(matrix):\n",
    "    return (\n",
    "        max(np.apply_along_axis(lambda x: min(x), axis=1, arr=matrix)),\n",
    "        min(np.apply_along_axis(lambda x: max(x), axis=0, arr=matrix))\n",
    "    )"
   ]
  },
  {
   "cell_type": "code",
   "execution_count": 5,
   "metadata": {},
   "outputs": [
    {
     "name": "stdout",
     "output_type": "stream",
     "text": [
      "maxmin=3\n"
     ]
    }
   ],
   "source": [
    "maxmin = max(np.apply_along_axis(lambda x: min(x), axis=1, arr=C1))\n",
    "print(f\"{maxmin=}\")"
   ]
  },
  {
   "cell_type": "code",
   "execution_count": 6,
   "metadata": {},
   "outputs": [
    {
     "name": "stdout",
     "output_type": "stream",
     "text": [
      "minmax=5\n"
     ]
    }
   ],
   "source": [
    "minmax = min(np.apply_along_axis(lambda x: max(x), axis=0, arr=C1))\n",
    "print(f\"{minmax=}\")"
   ]
  },
  {
   "cell_type": "markdown",
   "metadata": {},
   "source": [
    "Седловой точки нет. Границы выигрыша (3, 5)"
   ]
  },
  {
   "cell_type": "markdown",
   "metadata": {},
   "source": [
    "## Графически и аналитически решить матричную игру 2x2 для матрицы C2"
   ]
  },
  {
   "cell_type": "code",
   "execution_count": 7,
   "metadata": {},
   "outputs": [
    {
     "data": {
      "text/plain": [
       "array([[2, 7],\n",
       "       [4, 3]])"
      ]
     },
     "execution_count": 7,
     "metadata": {},
     "output_type": "execute_result"
    }
   ],
   "source": [
    "C2"
   ]
  },
  {
   "cell_type": "code",
   "execution_count": 8,
   "metadata": {},
   "outputs": [
    {
     "name": "stdout",
     "output_type": "stream",
     "text": [
      "(0.3333333333333333, 3.6666666666666665)\n"
     ]
    },
    {
     "data": {
      "image/png": "[encoded data removed]",
      "text/plain": [
       "<Figure size 720x576 with 1 Axes>"
      ]
     },
     "metadata": {
      "needs_background": "light"
     },
     "output_type": "display_data"
    }
   ],
   "source": [
    "plt.figure(figsize=(10, 8))\n",
    "\n",
    "# draw lines\n",
    "plt.plot([0, 1], C2[0])\n",
    "plt.plot([0, 1], C2[1])\n",
    "\n",
    "# find intersection\n",
    "cross = intersection(\n",
    "    (0, C2[0][0]),\n",
    "    (1, C2[0][1]),\n",
    "    (0, C2[1][0]),\n",
    "    (1, C2[1][1]),\n",
    ")\n",
    "print(cross)\n",
    "\n",
    "# draw intersection\n",
    "plt.plot(cross[0], cross[1], \"kx\")\n",
    "draw_to_y_axes(cross, '--')\n",
    "draw_to_x_axes(cross, '--')\n",
    "\n",
    "# beutify plot\n",
    "plt.axhline(0, color='black')\n",
    "plt.axhline(0, color='black')\n",
    "plt.axvline(0, color='black')\n",
    "plt.grid(True, \"both\")\n",
    "\n",
    "# shot plot\n",
    "plt.show()\n"
   ]
  },
  {
   "cell_type": "code",
   "execution_count": 33,
   "metadata": {},
   "outputs": [
    {
     "name": "stdout",
     "output_type": "stream",
     "text": [
      "(0.8333333333333334, 3.666666666666667)\n"
     ]
    },
    {
     "data": {
      "image/png": "[encoded data removed]",
      "text/plain": [
       "<Figure size 720x576 with 1 Axes>"
      ]
     },
     "metadata": {
      "needs_background": "light"
     },
     "output_type": "display_data"
    }
   ],
   "source": [
    "plt.figure(figsize=(10, 8))\n",
    "\n",
    "# draw lines\n",
    "plt.plot([0, 1], C2.T[0])\n",
    "plt.plot([0, 1], C2.T[1])\n",
    "\n",
    "# find intersection\n",
    "cross = intersection(\n",
    "    (0, C2.T[0][0]),\n",
    "    (1, C2.T[0][1]),\n",
    "    (0, C2.T[1][0]),\n",
    "    (1, C2.T[1][1]),\n",
    ")\n",
    "print(cross)\n",
    "\n",
    "# draw intersection\n",
    "plt.plot(cross[0], cross[1], \"kx\")\n",
    "plt.text(0.05, cross[1] + 0.05, '$v$', fontsize=14)\n",
    "plt.text(cross[0] / 2, 0.2, '$p_2$', fontsize=14)\n",
    "plt.text((cross[0] + 1) / 2, 0.2, '$p_1$', fontsize=14)\n",
    "draw_to_y_axes(cross, '--')\n",
    "draw_to_x_axes(cross, '--')\n",
    "\n",
    "# beutify plot\n",
    "plt.axhline(0, color='black')\n",
    "plt.axhline(0, color='black')\n",
    "plt.axvline(0, color='black')\n",
    "plt.grid(True, \"both\")\n",
    "\n",
    "# shot plot\n",
    "plt.show()\n"
   ]
  },
  {
   "cell_type": "code",
   "execution_count": 40,
   "metadata": {},
   "outputs": [
    {
     "name": "stdout",
     "output_type": "stream",
     "text": [
      "(3-4)/(2+3-(7+4))\n",
      "(2-7)/(2+3-(7+4))\n",
      "(2*3-7*4)/(2+3-(7+4))\n",
      "v ~ 3.7\n",
      "p1 ~ 0.18000000000000005\n",
      "p2 ~ 0.82\n",
      "delta(v) = 0.00909090909090918\n",
      "delta(p1) = 0.08000000000000035\n",
      "delta(p2) = 0.0160000000000001\n"
     ]
    },
    {
     "data": {
      "text/html": [
       "<div>\n",
       "<style scoped>\n",
       "    .dataframe tbody tr th:only-of-type {\n",
       "        vertical-align: middle;\n",
       "    }\n",
       "\n",
       "    .dataframe tbody tr th {\n",
       "        vertical-align: top;\n",
       "    }\n",
       "\n",
       "    .dataframe thead th {\n",
       "        text-align: right;\n",
       "    }\n",
       "</style>\n",
       "<table border=\"1\" class=\"dataframe\">\n",
       "  <thead>\n",
       "    <tr style=\"text-align: right;\">\n",
       "      <th></th>\n",
       "      <th>p1</th>\n",
       "      <th>p2</th>\n",
       "      <th>q1</th>\n",
       "      <th>q2</th>\n",
       "      <th>v</th>\n",
       "    </tr>\n",
       "  </thead>\n",
       "  <tbody>\n",
       "    <tr>\n",
       "      <th>0</th>\n",
       "      <td>0.167</td>\n",
       "      <td>0.833</td>\n",
       "      <td>0.667</td>\n",
       "      <td>0.333</td>\n",
       "      <td>3.667</td>\n",
       "    </tr>\n",
       "  </tbody>\n",
       "</table>\n",
       "</div>"
      ],
      "text/plain": [
       "      p1     p2     q1     q2      v\n",
       "0  0.167  0.833  0.667  0.333  3.667"
      ]
     },
     "execution_count": 40,
     "metadata": {},
     "output_type": "execute_result"
    }
   ],
   "source": [
    "c2_p1 = (C2[1][1]-C2[1][0])/(C2[0][0]+C2[1][1]-(C2[0][1]+C2[1][0]))\n",
    "c2_p2 = (C2[0][0]-C2[0][1])/(C2[0][0]+C2[1][1]-(C2[0][1]+C2[1][0]))\n",
    "c2_v  = (C2[0][0]*C2[1][1]-C2[0][1]*C2[1][0])/(C2[0][0]+C2[1][1]-(C2[0][1]+C2[1][0]))\n",
    "c2_q1 = (C2[1][1]-C2[0][1])/(C2[0][0]+C2[1][1]-(C2[0][1]+C2[1][0]))\n",
    "c2_q2 = (C2[0][0]-C2[1][0])/(C2[0][0]+C2[1][1]-(C2[0][1]+C2[1][0]))\n",
    "\n",
    "print(f\"({C2[1][1]}-{C2[1][0]})/({C2[0][0]}+{C2[1][1]}-({C2[0][1]}+{C2[1][0]}))\")\n",
    "print(f\"({C2[0][0]}-{C2[0][1]})/({C2[0][0]}+{C2[1][1]}-({C2[0][1]}+{C2[1][0]}))\")\n",
    "print(f\"({C2[0][0]}*{C2[1][1]}-{C2[0][1]}*{C2[1][0]})/({C2[0][0]}+{C2[1][1]}-({C2[0][1]}+{C2[1][0]}))\")\n",
    "\n",
    "print(\"v ~\", 3.7)\n",
    "print(\"p1 ~\", 1 - 0.82)\n",
    "print(\"p2 ~\", 0.82)\n",
    "print(\"delta(v) =\", calculate_error(3.7, c2_v))\n",
    "print(\"delta(p1) =\", calculate_error(1 - 0.82, c2_p1))\n",
    "print(\"delta(p2) =\", calculate_error(0.82, c2_p2))\n",
    "\n",
    "pd.DataFrame(data={\n",
    "    \"p1\": [c2_p1],\n",
    "    \"p2\": [c2_p2],\n",
    "    \"q1\": [c2_q1],\n",
    "    \"q2\": [c2_q2],\n",
    "    \"v\":  [c2_v],\n",
    "}).round(3)"
   ]
  },
  {
   "cell_type": "markdown",
   "metadata": {},
   "source": [
    "## Графически и аналитически решить матричную игру 2xN для матрицы C3"
   ]
  },
  {
   "cell_type": "code",
   "execution_count": 11,
   "metadata": {},
   "outputs": [
    {
     "data": {
      "text/plain": [
       "array([[3, 6, 1, 4, 2],\n",
       "       [5, 2, 4, 2, 7]])"
      ]
     },
     "execution_count": 11,
     "metadata": {},
     "output_type": "execute_result"
    }
   ],
   "source": [
    "C3"
   ]
  },
  {
   "cell_type": "code",
   "execution_count": 12,
   "metadata": {},
   "outputs": [
    {
     "data": {
      "text/html": [
       "<div>\n",
       "<style scoped>\n",
       "    .dataframe tbody tr th:only-of-type {\n",
       "        vertical-align: middle;\n",
       "    }\n",
       "\n",
       "    .dataframe tbody tr th {\n",
       "        vertical-align: top;\n",
       "    }\n",
       "\n",
       "    .dataframe thead th {\n",
       "        text-align: right;\n",
       "    }\n",
       "</style>\n",
       "<table border=\"1\" class=\"dataframe\">\n",
       "  <thead>\n",
       "    <tr style=\"text-align: right;\">\n",
       "      <th></th>\n",
       "      <th>maxmin</th>\n",
       "      <th>minmax</th>\n",
       "    </tr>\n",
       "  </thead>\n",
       "  <tbody>\n",
       "    <tr>\n",
       "      <th>0</th>\n",
       "      <td>2</td>\n",
       "      <td>4</td>\n",
       "    </tr>\n",
       "  </tbody>\n",
       "</table>\n",
       "</div>"
      ],
      "text/plain": [
       "   maxmin  minmax\n",
       "0       2       4"
      ]
     },
     "execution_count": 12,
     "metadata": {},
     "output_type": "execute_result"
    }
   ],
   "source": [
    "pd.DataFrame(data={\n",
    "    \"maxmin\": [max(np.apply_along_axis(lambda x: min(x), axis=1, arr=C3))],\n",
    "    \"minmax\": [min(np.apply_along_axis(lambda x: max(x), axis=0, arr=C3))],\n",
    "})"
   ]
  },
  {
   "cell_type": "code",
   "execution_count": 13,
   "metadata": {},
   "outputs": [],
   "source": [
    "def minimal_pairs(pairs):\n",
    "    minimal = []\n",
    "    for vec in pairs:\n",
    "        ignore = False\n",
    "        remove_indices = []\n",
    "        for index, min_vec in enumerate(minimal):\n",
    "            if vec[0] >= min_vec[0] and vec[1] >= min_vec[1]:\n",
    "                ignore = True\n",
    "                break\n",
    "            elif vec[0] <= min_vec[0] and vec[1] <= min_vec[1]:\n",
    "                remove_indices.append(index)\n",
    "        for index in sorted(remove_indices, reverse=True):\n",
    "            del minimal[index]\n",
    "        if not ignore:\n",
    "            minimal.append(vec)\n",
    "    return minimal\n"
   ]
  },
  {
   "cell_type": "code",
   "execution_count": 34,
   "metadata": {},
   "outputs": [
    {
     "name": "stdout",
     "output_type": "stream",
     "text": [
      "(0.6, 2.8)\n"
     ]
    },
    {
     "data": {
      "image/png": "[encoded data removed]",
      "text/plain": [
       "<Figure size 720x576 with 1 Axes>"
      ]
     },
     "metadata": {
      "needs_background": "light"
     },
     "output_type": "display_data"
    }
   ],
   "source": [
    "\n",
    "plt.figure(figsize=(10, 8))\n",
    "\n",
    "minimal = minimal_pairs(C3.T)\n",
    "first = (0, min(vec[0] for vec in minimal))\n",
    "last = (1, min(vec[1] for vec in minimal))\n",
    "\n",
    "for line in C3.T:\n",
    "    plt.plot([0, 1], line)\n",
    "    \n",
    "added = []\n",
    "crosses = []\n",
    "for line in minimal:\n",
    "    for line__ in added:\n",
    "        cross = intersection((0, line[0]),(1, line[1]),(0, line__[0]),(1, line__[1]))\n",
    "        if cross:\n",
    "            crosses.append(cross)\n",
    "            plt.plot(cross[0], cross[1], \"kx\")\n",
    "    added.append(line)\n",
    "\n",
    "def check_point(point):\n",
    "    for line in minimal:\n",
    "        if point_side((0, line[0]), (1, line[1]), point) > 0:\n",
    "            return False\n",
    "    return True\n",
    "\n",
    "crosses = list(filter(check_point, crosses))\n",
    "crosses.sort(key=lambda v: v[0])\n",
    "\n",
    "def reducer(a, b):\n",
    "    if a[1] > b[1]: return a\n",
    "    else: return b\n",
    "\n",
    "v_cross = reduce(reducer, crosses)\n",
    "\n",
    "crosses.insert(0, first)\n",
    "crosses.append(last)\n",
    "\n",
    "print(cross)\n",
    "\n",
    "plt.plot(\n",
    "    [vec[0] for vec in crosses],\n",
    "    [vec[1] for vec in crosses],\n",
    "    \"black\", linewidth=10, alpha=0.3\n",
    ")\n",
    "\n",
    "plt.text(0.05, v_cross[1] + 0.05, '$v$', fontsize=14)\n",
    "plt.text(v_cross[0] / 2, 0.2, '$p_2$', fontsize=14)\n",
    "plt.text((v_cross[0] + 1) / 2, 0.2, '$p_1$', fontsize=14)\n",
    "draw_to_x_axes(v_cross, \"r--\")\n",
    "draw_to_y_axes(v_cross, \"g--\")\n",
    "\n",
    "plt.axhline(0, color='black')\n",
    "plt.axhline(0, color='black')\n",
    "plt.axvline(0, color='black')\n",
    "plt.grid(True, \"both\")\n",
    "plt.show()"
   ]
  },
  {
   "cell_type": "code",
   "execution_count": 39,
   "metadata": {},
   "outputs": [
    {
     "name": "stdout",
     "output_type": "stream",
     "text": [
      "(4-2)/(4+4-(1+2))\n",
      "(4-1)/(4+4-(1+2))\n",
      "(4*4-1*2)/(4+4-(1+2))\n",
      "v ~ 2.8\n",
      "p1 ~ 0.4\n",
      "p2 ~ 0.6\n",
      "delta(v) = 0.0\n",
      "delta(p1) = 0.0\n",
      "delta(p2) = 0.0\n"
     ]
    },
    {
     "data": {
      "text/html": [
       "<div>\n",
       "<style scoped>\n",
       "    .dataframe tbody tr th:only-of-type {\n",
       "        vertical-align: middle;\n",
       "    }\n",
       "\n",
       "    .dataframe tbody tr th {\n",
       "        vertical-align: top;\n",
       "    }\n",
       "\n",
       "    .dataframe thead th {\n",
       "        text-align: right;\n",
       "    }\n",
       "</style>\n",
       "<table border=\"1\" class=\"dataframe\">\n",
       "  <thead>\n",
       "    <tr style=\"text-align: right;\">\n",
       "      <th></th>\n",
       "      <th>p1</th>\n",
       "      <th>p2</th>\n",
       "      <th>v</th>\n",
       "    </tr>\n",
       "  </thead>\n",
       "  <tbody>\n",
       "    <tr>\n",
       "      <th>0</th>\n",
       "      <td>0.4</td>\n",
       "      <td>0.6</td>\n",
       "      <td>2.8</td>\n",
       "    </tr>\n",
       "  </tbody>\n",
       "</table>\n",
       "</div>"
      ],
      "text/plain": [
       "    p1   p2    v\n",
       "0  0.4  0.6  2.8"
      ]
     },
     "execution_count": 39,
     "metadata": {},
     "output_type": "execute_result"
    }
   ],
   "source": [
    "# 2 and 3 form a mixed strategy\n",
    "c3_p1 = (C3[1][2]-C3[1][3])/(C3[0][3]+C3[1][2]-(C3[0][2]+C3[1][3]))\n",
    "c3_p2 = (C3[0][3]-C3[0][2])/(C3[0][3]+C3[1][2]-(C3[0][2]+C3[1][3]))\n",
    "c3_v  = (C3[0][3]*C3[1][2]-C3[0][2]*C3[1][3])/(C3[0][3]+C3[1][2]-(C3[0][2]+C3[1][3]))\n",
    "\n",
    "print(f\"({C3[1][2]}-{C3[1][3]})/({C3[0][3]}+{C3[1][2]}-({C3[0][2]}+{C3[1][3]}))\")\n",
    "print(f\"({C3[0][3]}-{C3[0][2]})/({C3[0][3]}+{C3[1][2]}-({C3[0][2]}+{C3[1][3]}))\")\n",
    "print(f\"({C3[0][3]}*{C3[1][2]}-{C3[0][2]}*{C3[1][3]})/({C3[0][3]}+{C3[1][2]}-({C3[0][2]}+{C3[1][3]}))\")\n",
    "\n",
    "print(\"v ~\", 2.8)\n",
    "print(\"p1 ~\", 1 - 0.6)\n",
    "print(\"p2 ~\", 0.6)\n",
    "print(\"delta(v) =\", calculate_error(2.8, c3_v))\n",
    "print(\"delta(p1) =\", calculate_error(1 - 0.6, c3_p1))\n",
    "print(\"delta(p2) =\", calculate_error(0.6, c3_p2))\n",
    "\n",
    "pd.DataFrame(data={\n",
    "    \"p1\": [c3_p1],\n",
    "    \"p2\": [c3_p2],\n",
    "    \"v\":  [c3_v],\n",
    "}).round(3)"
   ]
  },
  {
   "cell_type": "markdown",
   "metadata": {},
   "source": [
    "## Графически и аналитически решить матричную игру Nx2 для матрицы C4"
   ]
  },
  {
   "cell_type": "code",
   "execution_count": 16,
   "metadata": {},
   "outputs": [
    {
     "data": {
      "text/plain": [
       "array([[4, 8],\n",
       "       [3, 4],\n",
       "       [6, 5],\n",
       "       [7, 2],\n",
       "       [6, 3]])"
      ]
     },
     "execution_count": 16,
     "metadata": {},
     "output_type": "execute_result"
    }
   ],
   "source": [
    "C4"
   ]
  },
  {
   "cell_type": "code",
   "execution_count": 17,
   "metadata": {},
   "outputs": [
    {
     "data": {
      "text/html": [
       "<div>\n",
       "<style scoped>\n",
       "    .dataframe tbody tr th:only-of-type {\n",
       "        vertical-align: middle;\n",
       "    }\n",
       "\n",
       "    .dataframe tbody tr th {\n",
       "        vertical-align: top;\n",
       "    }\n",
       "\n",
       "    .dataframe thead th {\n",
       "        text-align: right;\n",
       "    }\n",
       "</style>\n",
       "<table border=\"1\" class=\"dataframe\">\n",
       "  <thead>\n",
       "    <tr style=\"text-align: right;\">\n",
       "      <th></th>\n",
       "      <th>maxmin</th>\n",
       "      <th>minmax</th>\n",
       "    </tr>\n",
       "  </thead>\n",
       "  <tbody>\n",
       "    <tr>\n",
       "      <th>0</th>\n",
       "      <td>5</td>\n",
       "      <td>7</td>\n",
       "    </tr>\n",
       "  </tbody>\n",
       "</table>\n",
       "</div>"
      ],
      "text/plain": [
       "   maxmin  minmax\n",
       "0       5       7"
      ]
     },
     "execution_count": 17,
     "metadata": {},
     "output_type": "execute_result"
    }
   ],
   "source": [
    "pd.DataFrame(data={\n",
    "    \"maxmin\": [max(np.apply_along_axis(lambda x: min(x), axis=1, arr=C4))],\n",
    "    \"minmax\": [min(np.apply_along_axis(lambda x: max(x), axis=0, arr=C4))],\n",
    "})"
   ]
  },
  {
   "cell_type": "code",
   "execution_count": 18,
   "metadata": {},
   "outputs": [],
   "source": [
    "def maximal_pairs(pairs):\n",
    "    maximal = []\n",
    "    for vec in pairs:\n",
    "        ignore = False\n",
    "        remove_indices = []\n",
    "        for index, min_vec in enumerate(maximal):\n",
    "            if vec[0] <= min_vec[0] and vec[1] <= min_vec[1]:\n",
    "                ignore = True\n",
    "                break\n",
    "            elif vec[0] >= min_vec[0] and vec[1] >= min_vec[1]:\n",
    "                remove_indices.append(index)\n",
    "        for index in sorted(remove_indices, reverse=True):\n",
    "            del maximal[index]\n",
    "        if not ignore:\n",
    "            maximal.append(vec)\n",
    "    return maximal"
   ]
  },
  {
   "cell_type": "code",
   "execution_count": 38,
   "metadata": {},
   "outputs": [
    {
     "name": "stdout",
     "output_type": "stream",
     "text": [
      "(0.4, 5.6)\n"
     ]
    },
    {
     "data": {
      "image/png": "[encoded data removed]",
      "text/plain": [
       "<Figure size 720x576 with 1 Axes>"
      ]
     },
     "metadata": {
      "needs_background": "light"
     },
     "output_type": "display_data"
    }
   ],
   "source": [
    "plt.figure(figsize=(10, 8))\n",
    "\n",
    "maximal = maximal_pairs(C4)\n",
    "first = (0, max(vec[0] for vec in maximal))\n",
    "last = (1, max(vec[1] for vec in maximal))\n",
    "\n",
    "for line in C4:\n",
    "    plt.plot([0, 1], line)\n",
    "    \n",
    "added = []\n",
    "crosses = []\n",
    "for line in maximal:\n",
    "    for line__ in added:\n",
    "        cross = intersection((0, line[0]),(1, line[1]),(0, line__[0]),(1, line__[1]))\n",
    "        if cross: crosses.append(cross)\n",
    "    added.append(line)\n",
    "\n",
    "def check_point(point):\n",
    "    for line in maximal:\n",
    "        if point_side((0, line[0]), (1, line[1]), point) < 0:\n",
    "            return False\n",
    "    return True\n",
    "\n",
    "crosses = list(filter(check_point, crosses))\n",
    "crosses.sort(key=lambda v: v[0])\n",
    "\n",
    "def reducer(a, b):\n",
    "    if a[1] < b[1]: return a\n",
    "    else: return b\n",
    "\n",
    "v_cross = reduce(reducer, crosses)\n",
    "\n",
    "crosses.insert(0, first)\n",
    "crosses.append(last)\n",
    "\n",
    "print(v_cross)\n",
    "\n",
    "plt.plot(\n",
    "    [vec[0] for vec in crosses],\n",
    "    [vec[1] for vec in crosses],\n",
    "    \"black\", linewidth=10, alpha=0.3\n",
    ")\n",
    "\n",
    "plt.text(0.05, v_cross[1] - 0.3, '$v$', fontsize=14)\n",
    "plt.text(v_cross[0] / 2, 0.2, '$q_2$', fontsize=14)\n",
    "plt.text((v_cross[0] + 1) / 2, 0.2, '$q_1$', fontsize=14)\n",
    "draw_to_x_axes(v_cross, \"r--\")\n",
    "draw_to_y_axes(v_cross, \"g--\")\n",
    "\n",
    "plt.axhline(0, color='black')\n",
    "plt.axhline(0, color='black')\n",
    "plt.axvline(0, color='black')\n",
    "plt.grid(True, \"both\")\n",
    "plt.show()"
   ]
  },
  {
   "cell_type": "code",
   "execution_count": 41,
   "metadata": {},
   "outputs": [
    {
     "name": "stdout",
     "output_type": "stream",
     "text": [
      "(8-5)/(6+8-(5+4))\n",
      "(6-4)/(6+8-(5+4))\n",
      "(8*6-5*4)/(6+8-(5+4))\n",
      "v ~ 5.6\n",
      "q1 ~ 0.6\n",
      "q2 ~ 0.4\n",
      "delta(v) = 0.0\n",
      "delta(q1) = 0.0\n",
      "delta(q2) = 0.0\n"
     ]
    },
    {
     "data": {
      "text/html": [
       "<div>\n",
       "<style scoped>\n",
       "    .dataframe tbody tr th:only-of-type {\n",
       "        vertical-align: middle;\n",
       "    }\n",
       "\n",
       "    .dataframe tbody tr th {\n",
       "        vertical-align: top;\n",
       "    }\n",
       "\n",
       "    .dataframe thead th {\n",
       "        text-align: right;\n",
       "    }\n",
       "</style>\n",
       "<table border=\"1\" class=\"dataframe\">\n",
       "  <thead>\n",
       "    <tr style=\"text-align: right;\">\n",
       "      <th></th>\n",
       "      <th>q1</th>\n",
       "      <th>q2</th>\n",
       "      <th>v</th>\n",
       "    </tr>\n",
       "  </thead>\n",
       "  <tbody>\n",
       "    <tr>\n",
       "      <th>0</th>\n",
       "      <td>0.6</td>\n",
       "      <td>0.4</td>\n",
       "      <td>5.6</td>\n",
       "    </tr>\n",
       "  </tbody>\n",
       "</table>\n",
       "</div>"
      ],
      "text/plain": [
       "    q1   q2    v\n",
       "0  0.6  0.4  5.6"
      ]
     },
     "execution_count": 41,
     "metadata": {},
     "output_type": "execute_result"
    }
   ],
   "source": [
    "# 0 and 2 form a mixed strategy\n",
    "c4_q1 = (C4[0][1]-C4[2][1])/(C4[2][0]+C4[0][1]-(C4[2][1]+C4[0][0]))\n",
    "c4_q2 = (C4[2][0]-C4[0][0])/(C4[2][0]+C4[0][1]-(C4[2][1]+C4[0][0]))\n",
    "c4_v  = (C4[0][1]*C4[2][0]-C4[2][1]*C4[0][0])/(C4[2][0]+C4[0][1]-(C4[2][1]+C4[0][0]))\n",
    "\n",
    "print(f\"({C4[0][1]}-{C4[2][1]})/({C4[2][0]}+{C4[0][1]}-({C4[2][1]}+{C4[0][0]}))\")\n",
    "print(f\"({C4[2][0]}-{C4[0][0]})/({C4[2][0]}+{C4[0][1]}-({C4[2][1]}+{C4[0][0]}))\")\n",
    "print(f\"({C4[0][1]}*{C4[2][0]}-{C4[2][1]}*{C4[0][0]})/({C4[2][0]}+{C4[0][1]}-({C4[2][1]}+{C4[0][0]}))\")\n",
    "\n",
    "print(\"v ~\", 5.6)\n",
    "print(\"q1 ~\", 1 - 0.4)\n",
    "print(\"q2 ~\", 0.4)\n",
    "print(\"delta(v) =\", calculate_error(5.6, c4_v))\n",
    "print(\"delta(q1) =\", calculate_error(1 - 0.4, c4_q1))\n",
    "print(\"delta(q2) =\", calculate_error(0.4, c4_q2))\n",
    "\n",
    "pd.DataFrame(data={\n",
    "    \"q1\": [c4_q1],\n",
    "    \"q2\": [c4_q2],\n",
    "    \"v\":  [c4_v],\n",
    "}).round(3)"
   ]
  },
  {
   "cell_type": "markdown",
   "metadata": {},
   "source": [
    "## С помощью симплекс-метода решить матричную игру MxN для матрицы C5 "
   ]
  },
  {
   "cell_type": "code",
   "execution_count": 21,
   "metadata": {},
   "outputs": [
    {
     "data": {
      "text/plain": [
       "array([[2, 1, 3],\n",
       "       [5, 2, 4],\n",
       "       [3, 7, 5]])"
      ]
     },
     "execution_count": 21,
     "metadata": {},
     "output_type": "execute_result"
    }
   ],
   "source": [
    "C5"
   ]
  },
  {
   "cell_type": "code",
   "execution_count": 22,
   "metadata": {},
   "outputs": [
    {
     "data": {
      "text/html": [
       "<div>\n",
       "<style scoped>\n",
       "    .dataframe tbody tr th:only-of-type {\n",
       "        vertical-align: middle;\n",
       "    }\n",
       "\n",
       "    .dataframe tbody tr th {\n",
       "        vertical-align: top;\n",
       "    }\n",
       "\n",
       "    .dataframe thead th {\n",
       "        text-align: right;\n",
       "    }\n",
       "</style>\n",
       "<table border=\"1\" class=\"dataframe\">\n",
       "  <thead>\n",
       "    <tr style=\"text-align: right;\">\n",
       "      <th></th>\n",
       "      <th>maxmin</th>\n",
       "      <th>minmax</th>\n",
       "    </tr>\n",
       "  </thead>\n",
       "  <tbody>\n",
       "    <tr>\n",
       "      <th>0</th>\n",
       "      <td>3</td>\n",
       "      <td>5</td>\n",
       "    </tr>\n",
       "  </tbody>\n",
       "</table>\n",
       "</div>"
      ],
      "text/plain": [
       "   maxmin  minmax\n",
       "0       3       5"
      ]
     },
     "execution_count": 22,
     "metadata": {},
     "output_type": "execute_result"
    }
   ],
   "source": [
    "pd.DataFrame(data={\n",
    "    \"maxmin\": [max(np.apply_along_axis(lambda x: min(x), axis=1, arr=C5))],\n",
    "    \"minmax\": [min(np.apply_along_axis(lambda x: max(x), axis=0, arr=C5))],\n",
    "})"
   ]
  },
  {
   "cell_type": "markdown",
   "metadata": {},
   "source": [
    "$2p_1+5p_2+3p_3 \\geq V$\n",
    "\n",
    "$1p_1+2p_2+7p_3 \\geq V$\n",
    "\n",
    "$3p_1+4p_2+5p_3 \\geq V$\n",
    "\n",
    "$1p_1+1p_2+1p_3 = 1$\n",
    "\n",
    "-----------------------\n",
    "divide both sides by $V$, replace: $x_i=p_i/V$\n",
    "\n",
    "$2x_1+5x_2+3x_3 \\geq 1$\n",
    "\n",
    "$1x_1+2x_2+7x_3 \\geq 1$\n",
    "\n",
    "$3x_1+4x_2+5x_3 \\geq 1$\n",
    "\n",
    "$1x_1+1x_2+1x_3 = 1/V$\n",
    "\n",
    "-----------------------\n",
    "maximize $V$ i.e. minimize $Z = 1/V$\n",
    "\n",
    "$2x_1+5x_2+3x_3 \\geq 1$\n",
    "\n",
    "$1x_1+2x_2+7x_3 \\geq 1$\n",
    "\n",
    "$3x_1+4x_2+5x_3 \\geq 1$\n",
    "\n",
    "$1x_1+1x_2+1x_3 = Z$\n",
    "\n",
    "$Z \\rightarrow min$\n",
    "\n",
    "Linear programming problem"
   ]
  },
  {
   "cell_type": "code",
   "execution_count": 42,
   "metadata": {},
   "outputs": [],
   "source": [
    "def solve_matrix(matrix):\n",
    "    objective_funciton_coefs = np.array([1, 1, 1])\n",
    "    constraint_matrix = matrix.T * -1\n",
    "    constraint_vector = np.array([-1, -1, -1])\n",
    "    return linprog(\n",
    "        objective_funciton_coefs,\n",
    "        A_ub=constraint_matrix,\n",
    "        b_ub=constraint_vector\n",
    "    )"
   ]
  },
  {
   "cell_type": "code",
   "execution_count": 44,
   "metadata": {},
   "outputs": [
    {
     "name": "stdout",
     "output_type": "stream",
     "text": [
      "     con: array([], dtype=float64)\n",
      "     fun: 0.2413793105018628\n",
      " message: 'Optimization terminated successfully.'\n",
      "     nit: 5\n",
      "   slack: array([4.65081751e-10, 5.05731013e-10, 6.89655179e-02])\n",
      "  status: 0\n",
      " success: True\n",
      "       x: array([7.15970367e-11, 1.37931035e-01, 1.03448276e-01])\n",
      "V = 4.142857140161906\n",
      "p = [2.96616295e-10 5.71428571e-01 4.28571429e-01]\n"
     ]
    }
   ],
   "source": [
    "np.warnings.filterwarnings('ignore', category=np.VisibleDeprecationWarning)\n",
    "result = solve_matrix(C5)\n",
    "\n",
    "print(result)\n",
    "\n",
    "print(\"V =\", 1/result.fun)\n",
    "print(\"p =\", result.x/result.fun)\n"
   ]
  }
 ],
 "metadata": {
  "interpreter": {
   "hash": "916dbcbb3f70747c44a77c7bcd40155683ae19c65e1c03b4aa3499c5328201f1"
  },
  "kernelspec": {
   "display_name": "Python 3.8.10 64-bit",
   "language": "python",
   "name": "python3"
  },
  "language_info": {
   "codemirror_mode": {
    "name": "ipython",
    "version": 3
   },
   "file_extension": ".py",
   "mimetype": "text/x-python",
   "name": "python",
   "nbconvert_exporter": "python",
   "pygments_lexer": "ipython3",
   "version": "3.8.10"
  },
  "orig_nbformat": 4
 },
 "nbformat": 4,
 "nbformat_minor": 2
}
