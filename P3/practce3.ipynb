{
 "cells": [
  {
   "cell_type": "code",
   "execution_count": 88,
   "metadata": {},
   "outputs": [],
   "source": [
    "import numpy as np\n",
    "import pandas as pd\n",
    "import matplotlib.pyplot as plt"
   ]
  },
  {
   "cell_type": "markdown",
   "metadata": {},
   "source": [
    "## Вариант\n",
    "3 в списке\n",
    "\n",
    "N = 3\n",
    "\n",
    "Вариант 24\n",
    "\n",
    "Оптимизационный критерий Максимакс"
   ]
  },
  {
   "cell_type": "code",
   "execution_count": 89,
   "metadata": {},
   "outputs": [
    {
     "name": "stdout",
     "output_type": "stream",
     "text": [
      "[[1.466 3.464 1.625 2.903 3.342 1.309 3.356 1.075 0.62  3.232]\n",
      " [2.92  0.608 3.057 1.522 3.719 1.345 1.808 0.458 0.668 1.588]\n",
      " [3.806 2.901 0.903 3.554 0.308 3.02  2.272 0.466 2.694 1.108]\n",
      " [0.561 1.188 1.838 3.92  0.389 1.892 2.057 1.341 0.596 2.277]\n",
      " [1.098 1.515 2.295 0.339 0.906 2.797 2.625 3.208 1.829 2.953]\n",
      " [1.085 3.87  1.581 0.674 1.738 1.922 1.288 1.109 0.447 0.788]\n",
      " [1.64  2.121 3.93  0.601 1.604 1.854 3.823 0.804 1.109 3.437]\n",
      " [1.754 2.7   2.472 1.94  3.358 3.898 0.919 1.042 2.553 1.207]\n",
      " [2.965 1.527 3.944 0.885 1.218 1.015 2.893 1.072 2.44  1.455]\n",
      " [3.817 3.518 1.612 2.762 2.891 3.003 0.433 0.709 2.557 3.988]]\n"
     ]
    }
   ],
   "source": [
    "N = 3\n",
    "low = 1/(N+1)\n",
    "high = N+1\n",
    "\n",
    "payoff = np.random.uniform(low=low, high=high, size=(10, 10))\n",
    "print(payoff.round(3))\n"
   ]
  },
  {
   "cell_type": "code",
   "execution_count": 90,
   "metadata": {},
   "outputs": [
    {
     "name": "stdout",
     "output_type": "stream",
     "text": [
      "[0.119 0.032 0.129 0.122 0.115 0.121 0.092 0.095 0.033 0.143]\n"
     ]
    }
   ],
   "source": [
    "p = np.random.uniform(size=10)\n",
    "p /= p.sum()\n",
    "\n",
    "print(p.round(3))"
   ]
  },
  {
   "cell_type": "code",
   "execution_count": 91,
   "metadata": {},
   "outputs": [
    {
     "data": {
      "text/html": [
       "<div>\n",
       "<style scoped>\n",
       "    .dataframe tbody tr th:only-of-type {\n",
       "        vertical-align: middle;\n",
       "    }\n",
       "\n",
       "    .dataframe tbody tr th {\n",
       "        vertical-align: top;\n",
       "    }\n",
       "\n",
       "    .dataframe thead th {\n",
       "        text-align: right;\n",
       "    }\n",
       "</style>\n",
       "<table border=\"1\" class=\"dataframe\">\n",
       "  <thead>\n",
       "    <tr style=\"text-align: right;\">\n",
       "      <th></th>\n",
       "      <th>0.119</th>\n",
       "      <th>0.032</th>\n",
       "      <th>0.129</th>\n",
       "      <th>0.122</th>\n",
       "      <th>0.115</th>\n",
       "      <th>0.121</th>\n",
       "      <th>0.092</th>\n",
       "      <th>0.095</th>\n",
       "      <th>0.033</th>\n",
       "      <th>0.143</th>\n",
       "    </tr>\n",
       "  </thead>\n",
       "  <tbody>\n",
       "    <tr>\n",
       "      <th>0</th>\n",
       "      <td>1.466</td>\n",
       "      <td>3.464</td>\n",
       "      <td>1.625</td>\n",
       "      <td>2.903</td>\n",
       "      <td>3.342</td>\n",
       "      <td>1.309</td>\n",
       "      <td>3.356</td>\n",
       "      <td>1.075</td>\n",
       "      <td>0.620</td>\n",
       "      <td>3.232</td>\n",
       "    </tr>\n",
       "    <tr>\n",
       "      <th>1</th>\n",
       "      <td>2.920</td>\n",
       "      <td>0.608</td>\n",
       "      <td>3.057</td>\n",
       "      <td>1.522</td>\n",
       "      <td>3.719</td>\n",
       "      <td>1.345</td>\n",
       "      <td>1.808</td>\n",
       "      <td>0.458</td>\n",
       "      <td>0.668</td>\n",
       "      <td>1.588</td>\n",
       "    </tr>\n",
       "    <tr>\n",
       "      <th>2</th>\n",
       "      <td>3.806</td>\n",
       "      <td>2.901</td>\n",
       "      <td>0.903</td>\n",
       "      <td>3.554</td>\n",
       "      <td>0.308</td>\n",
       "      <td>3.020</td>\n",
       "      <td>2.272</td>\n",
       "      <td>0.466</td>\n",
       "      <td>2.694</td>\n",
       "      <td>1.108</td>\n",
       "    </tr>\n",
       "    <tr>\n",
       "      <th>3</th>\n",
       "      <td>0.561</td>\n",
       "      <td>1.188</td>\n",
       "      <td>1.838</td>\n",
       "      <td>3.920</td>\n",
       "      <td>0.389</td>\n",
       "      <td>1.892</td>\n",
       "      <td>2.057</td>\n",
       "      <td>1.341</td>\n",
       "      <td>0.596</td>\n",
       "      <td>2.277</td>\n",
       "    </tr>\n",
       "    <tr>\n",
       "      <th>4</th>\n",
       "      <td>1.098</td>\n",
       "      <td>1.515</td>\n",
       "      <td>2.295</td>\n",
       "      <td>0.339</td>\n",
       "      <td>0.906</td>\n",
       "      <td>2.797</td>\n",
       "      <td>2.625</td>\n",
       "      <td>3.208</td>\n",
       "      <td>1.829</td>\n",
       "      <td>2.953</td>\n",
       "    </tr>\n",
       "    <tr>\n",
       "      <th>5</th>\n",
       "      <td>1.085</td>\n",
       "      <td>3.870</td>\n",
       "      <td>1.581</td>\n",
       "      <td>0.674</td>\n",
       "      <td>1.738</td>\n",
       "      <td>1.922</td>\n",
       "      <td>1.288</td>\n",
       "      <td>1.109</td>\n",
       "      <td>0.447</td>\n",
       "      <td>0.788</td>\n",
       "    </tr>\n",
       "    <tr>\n",
       "      <th>6</th>\n",
       "      <td>1.640</td>\n",
       "      <td>2.121</td>\n",
       "      <td>3.930</td>\n",
       "      <td>0.601</td>\n",
       "      <td>1.604</td>\n",
       "      <td>1.854</td>\n",
       "      <td>3.823</td>\n",
       "      <td>0.804</td>\n",
       "      <td>1.109</td>\n",
       "      <td>3.437</td>\n",
       "    </tr>\n",
       "    <tr>\n",
       "      <th>7</th>\n",
       "      <td>1.754</td>\n",
       "      <td>2.700</td>\n",
       "      <td>2.472</td>\n",
       "      <td>1.940</td>\n",
       "      <td>3.358</td>\n",
       "      <td>3.898</td>\n",
       "      <td>0.919</td>\n",
       "      <td>1.042</td>\n",
       "      <td>2.553</td>\n",
       "      <td>1.207</td>\n",
       "    </tr>\n",
       "    <tr>\n",
       "      <th>8</th>\n",
       "      <td>2.965</td>\n",
       "      <td>1.527</td>\n",
       "      <td>3.944</td>\n",
       "      <td>0.885</td>\n",
       "      <td>1.218</td>\n",
       "      <td>1.015</td>\n",
       "      <td>2.893</td>\n",
       "      <td>1.072</td>\n",
       "      <td>2.440</td>\n",
       "      <td>1.455</td>\n",
       "    </tr>\n",
       "    <tr>\n",
       "      <th>9</th>\n",
       "      <td>3.817</td>\n",
       "      <td>3.518</td>\n",
       "      <td>1.612</td>\n",
       "      <td>2.762</td>\n",
       "      <td>2.891</td>\n",
       "      <td>3.003</td>\n",
       "      <td>0.433</td>\n",
       "      <td>0.709</td>\n",
       "      <td>2.557</td>\n",
       "      <td>3.988</td>\n",
       "    </tr>\n",
       "  </tbody>\n",
       "</table>\n",
       "</div>"
      ],
      "text/plain": [
       "   0.119  0.032  0.129  0.122  0.115  0.121  0.092  0.095  0.033  0.143\n",
       "0  1.466  3.464  1.625  2.903  3.342  1.309  3.356  1.075  0.620  3.232\n",
       "1  2.920  0.608  3.057  1.522  3.719  1.345  1.808  0.458  0.668  1.588\n",
       "2  3.806  2.901  0.903  3.554  0.308  3.020  2.272  0.466  2.694  1.108\n",
       "3  0.561  1.188  1.838  3.920  0.389  1.892  2.057  1.341  0.596  2.277\n",
       "4  1.098  1.515  2.295  0.339  0.906  2.797  2.625  3.208  1.829  2.953\n",
       "5  1.085  3.870  1.581  0.674  1.738  1.922  1.288  1.109  0.447  0.788\n",
       "6  1.640  2.121  3.930  0.601  1.604  1.854  3.823  0.804  1.109  3.437\n",
       "7  1.754  2.700  2.472  1.940  3.358  3.898  0.919  1.042  2.553  1.207\n",
       "8  2.965  1.527  3.944  0.885  1.218  1.015  2.893  1.072  2.440  1.455\n",
       "9  3.817  3.518  1.612  2.762  2.891  3.003  0.433  0.709  2.557  3.988"
      ]
     },
     "execution_count": 91,
     "metadata": {},
     "output_type": "execute_result"
    }
   ],
   "source": [
    "pd.DataFrame(data=payoff, columns=p.round(3)).round(3)"
   ]
  },
  {
   "cell_type": "code",
   "execution_count": 92,
   "metadata": {},
   "outputs": [
    {
     "name": "stdout",
     "output_type": "stream",
     "text": [
      "[[3.464]\n",
      " [3.719]\n",
      " [3.806]\n",
      " [3.92 ]\n",
      " [3.208]\n",
      " [3.87 ]\n",
      " [3.93 ]\n",
      " [3.898]\n",
      " [3.944]\n",
      " [3.988]]\n"
     ]
    }
   ],
   "source": [
    "maxes = np.apply_along_axis(np.max, 1, payoff)\n",
    "print(maxes.round(3).reshape(10, 1))"
   ]
  },
  {
   "cell_type": "code",
   "execution_count": 93,
   "metadata": {},
   "outputs": [
    {
     "name": "stdout",
     "output_type": "stream",
     "text": [
      "\\begin{tabular}{lrrrrrrrrrrr}\n",
      "\\toprule\n",
      "{} &  0.119 &  0.032 &  0.129 &  0.122 &  0.115 &  0.121 &  0.092 &  0.095 &  0.033 &  0.143 &    max \\\\\n",
      "\\midrule\n",
      "0 &  1.466 &  3.464 &  1.625 &  2.903 &  3.342 &  1.309 &  3.356 &  1.075 &  0.620 &  3.232 &  3.464 \\\\\n",
      "1 &  2.920 &  0.608 &  3.057 &  1.522 &  3.719 &  1.345 &  1.808 &  0.458 &  0.668 &  1.588 &  3.719 \\\\\n",
      "2 &  3.806 &  2.901 &  0.903 &  3.554 &  0.308 &  3.020 &  2.272 &  0.466 &  2.694 &  1.108 &  3.806 \\\\\n",
      "3 &  0.561 &  1.188 &  1.838 &  3.920 &  0.389 &  1.892 &  2.057 &  1.341 &  0.596 &  2.277 &  3.920 \\\\\n",
      "4 &  1.098 &  1.515 &  2.295 &  0.339 &  0.906 &  2.797 &  2.625 &  3.208 &  1.829 &  2.953 &  3.208 \\\\\n",
      "5 &  1.085 &  3.870 &  1.581 &  0.674 &  1.738 &  1.922 &  1.288 &  1.109 &  0.447 &  0.788 &  3.870 \\\\\n",
      "6 &  1.640 &  2.121 &  3.930 &  0.601 &  1.604 &  1.854 &  3.823 &  0.804 &  1.109 &  3.437 &  3.930 \\\\\n",
      "7 &  1.754 &  2.700 &  2.472 &  1.940 &  3.358 &  3.898 &  0.919 &  1.042 &  2.553 &  1.207 &  3.898 \\\\\n",
      "8 &  2.965 &  1.527 &  3.944 &  0.885 &  1.218 &  1.015 &  2.893 &  1.072 &  2.440 &  1.455 &  3.944 \\\\\n",
      "9 &  3.817 &  3.518 &  1.612 &  2.762 &  2.891 &  3.003 &  0.433 &  0.709 &  2.557 &  3.988 &  3.988 \\\\\n",
      "\\bottomrule\n",
      "\\end{tabular}\n",
      "\n"
     ]
    }
   ],
   "source": [
    "print(\n",
    "    pd.DataFrame(\n",
    "        data=np.hstack((payoff, maxes.reshape((10, 1)))),\n",
    "        columns=p.round(3).tolist() + [\"max\"]\n",
    "    ).round(3).to_latex()\n",
    ")"
   ]
  },
  {
   "cell_type": "code",
   "execution_count": 95,
   "metadata": {},
   "outputs": [
    {
     "name": "stdout",
     "output_type": "stream",
     "text": [
      "maximax=3.988\n",
      "strategy=9\n"
     ]
    }
   ],
   "source": [
    "maximax, strategy = maxes.max(), maxes.argmax()\n",
    "print(f\"{maximax=:.{3}f}\")\n",
    "print(f\"{strategy=}\")"
   ]
  },
  {
   "cell_type": "code",
   "execution_count": 102,
   "metadata": {},
   "outputs": [
    {
     "data": {
      "text/plain": [
       "0.5569231490129518"
      ]
     },
     "execution_count": 102,
     "metadata": {},
     "output_type": "execute_result"
    }
   ],
   "source": [
    "from scipy.special import erf\n",
    "\n",
    "Phi = lambda x: 1-erf(x/(2**0.5))/2\n",
    "Phi(1.58113883)\n"
   ]
  }
 ],
 "metadata": {
  "interpreter": {
   "hash": "916dbcbb3f70747c44a77c7bcd40155683ae19c65e1c03b4aa3499c5328201f1"
  },
  "kernelspec": {
   "display_name": "Python 3.8.10 64-bit",
   "language": "python",
   "name": "python3"
  },
  "language_info": {
   "codemirror_mode": {
    "name": "ipython",
    "version": 3
   },
   "file_extension": ".py",
   "mimetype": "text/x-python",
   "name": "python",
   "nbconvert_exporter": "python",
   "pygments_lexer": "ipython3",
   "version": "3.8.10"
  },
  "orig_nbformat": 4
 },
 "nbformat": 4,
 "nbformat_minor": 2
}
