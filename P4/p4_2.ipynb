{
 "cells": [
  {
   "cell_type": "markdown",
   "metadata": {},
   "source": [
    "## Var 3\n",
    "\n",
    "Газпром\n",
    "\n",
    "|underlying|volume|code|short code|reuters|bloomberg|\n",
    "|---:|---:|:---:|:---:|:---:|:---:|\n",
    "|Обыкновенные акции ПАО \"Газпром\"|100|GAZR|GZ|PZAA Index|GZRTSc1|\n"
   ]
  },
  {
   "cell_type": "code",
   "execution_count": 2,
   "metadata": {},
   "outputs": [],
   "source": [
    "import pandas as pd"
   ]
  },
  {
   "cell_type": "code",
   "execution_count": 3,
   "metadata": {},
   "outputs": [
    {
     "data": {
      "text/html": [
       "<div>\n",
       "<style scoped>\n",
       "    .dataframe tbody tr th:only-of-type {\n",
       "        vertical-align: middle;\n",
       "    }\n",
       "\n",
       "    .dataframe tbody tr th {\n",
       "        vertical-align: top;\n",
       "    }\n",
       "\n",
       "    .dataframe thead th {\n",
       "        text-align: right;\n",
       "    }\n",
       "</style>\n",
       "<table border=\"1\" class=\"dataframe\">\n",
       "  <thead>\n",
       "    <tr style=\"text-align: right;\">\n",
       "      <th></th>\n",
       "      <th>ticker</th>\n",
       "      <th>per</th>\n",
       "      <th>date</th>\n",
       "      <th>open</th>\n",
       "      <th>high</th>\n",
       "      <th>low</th>\n",
       "      <th>close</th>\n",
       "      <th>vol</th>\n",
       "    </tr>\n",
       "  </thead>\n",
       "  <tbody>\n",
       "    <tr>\n",
       "      <th>0</th>\n",
       "      <td>GAZP</td>\n",
       "      <td>D</td>\n",
       "      <td>01/09/21</td>\n",
       "      <td>306.60</td>\n",
       "      <td>313.95</td>\n",
       "      <td>306.19</td>\n",
       "      <td>312.89</td>\n",
       "      <td>79410570</td>\n",
       "    </tr>\n",
       "    <tr>\n",
       "      <th>1</th>\n",
       "      <td>GAZP</td>\n",
       "      <td>D</td>\n",
       "      <td>02/09/21</td>\n",
       "      <td>313.59</td>\n",
       "      <td>314.80</td>\n",
       "      <td>310.30</td>\n",
       "      <td>312.30</td>\n",
       "      <td>53349820</td>\n",
       "    </tr>\n",
       "    <tr>\n",
       "      <th>2</th>\n",
       "      <td>GAZP</td>\n",
       "      <td>D</td>\n",
       "      <td>03/09/21</td>\n",
       "      <td>312.70</td>\n",
       "      <td>317.96</td>\n",
       "      <td>311.16</td>\n",
       "      <td>317.94</td>\n",
       "      <td>63637790</td>\n",
       "    </tr>\n",
       "    <tr>\n",
       "      <th>3</th>\n",
       "      <td>GAZP</td>\n",
       "      <td>D</td>\n",
       "      <td>06/09/21</td>\n",
       "      <td>319.00</td>\n",
       "      <td>329.35</td>\n",
       "      <td>318.60</td>\n",
       "      <td>328.93</td>\n",
       "      <td>80141350</td>\n",
       "    </tr>\n",
       "    <tr>\n",
       "      <th>4</th>\n",
       "      <td>GAZP</td>\n",
       "      <td>D</td>\n",
       "      <td>07/09/21</td>\n",
       "      <td>329.95</td>\n",
       "      <td>333.00</td>\n",
       "      <td>325.50</td>\n",
       "      <td>327.73</td>\n",
       "      <td>71864800</td>\n",
       "    </tr>\n",
       "    <tr>\n",
       "      <th>...</th>\n",
       "      <td>...</td>\n",
       "      <td>...</td>\n",
       "      <td>...</td>\n",
       "      <td>...</td>\n",
       "      <td>...</td>\n",
       "      <td>...</td>\n",
       "      <td>...</td>\n",
       "      <td>...</td>\n",
       "    </tr>\n",
       "    <tr>\n",
       "      <th>81</th>\n",
       "      <td>GAZP</td>\n",
       "      <td>D</td>\n",
       "      <td>24/12/21</td>\n",
       "      <td>339.30</td>\n",
       "      <td>340.98</td>\n",
       "      <td>334.55</td>\n",
       "      <td>338.79</td>\n",
       "      <td>39005950</td>\n",
       "    </tr>\n",
       "    <tr>\n",
       "      <th>82</th>\n",
       "      <td>GAZP</td>\n",
       "      <td>D</td>\n",
       "      <td>27/12/21</td>\n",
       "      <td>339.68</td>\n",
       "      <td>343.97</td>\n",
       "      <td>339.33</td>\n",
       "      <td>343.97</td>\n",
       "      <td>29925890</td>\n",
       "    </tr>\n",
       "    <tr>\n",
       "      <th>83</th>\n",
       "      <td>GAZP</td>\n",
       "      <td>D</td>\n",
       "      <td>28/12/21</td>\n",
       "      <td>344.04</td>\n",
       "      <td>346.60</td>\n",
       "      <td>342.55</td>\n",
       "      <td>343.23</td>\n",
       "      <td>34848840</td>\n",
       "    </tr>\n",
       "    <tr>\n",
       "      <th>84</th>\n",
       "      <td>GAZP</td>\n",
       "      <td>D</td>\n",
       "      <td>29/12/21</td>\n",
       "      <td>343.30</td>\n",
       "      <td>344.48</td>\n",
       "      <td>337.13</td>\n",
       "      <td>340.33</td>\n",
       "      <td>43005060</td>\n",
       "    </tr>\n",
       "    <tr>\n",
       "      <th>85</th>\n",
       "      <td>GAZP</td>\n",
       "      <td>D</td>\n",
       "      <td>30/12/21</td>\n",
       "      <td>340.75</td>\n",
       "      <td>344.00</td>\n",
       "      <td>337.40</td>\n",
       "      <td>342.39</td>\n",
       "      <td>40853240</td>\n",
       "    </tr>\n",
       "  </tbody>\n",
       "</table>\n",
       "<p>86 rows × 8 columns</p>\n",
       "</div>"
      ],
      "text/plain": [
       "   ticker per      date    open    high     low   close       vol\n",
       "0    GAZP   D  01/09/21  306.60  313.95  306.19  312.89  79410570\n",
       "1    GAZP   D  02/09/21  313.59  314.80  310.30  312.30  53349820\n",
       "2    GAZP   D  03/09/21  312.70  317.96  311.16  317.94  63637790\n",
       "3    GAZP   D  06/09/21  319.00  329.35  318.60  328.93  80141350\n",
       "4    GAZP   D  07/09/21  329.95  333.00  325.50  327.73  71864800\n",
       "..    ...  ..       ...     ...     ...     ...     ...       ...\n",
       "81   GAZP   D  24/12/21  339.30  340.98  334.55  338.79  39005950\n",
       "82   GAZP   D  27/12/21  339.68  343.97  339.33  343.97  29925890\n",
       "83   GAZP   D  28/12/21  344.04  346.60  342.55  343.23  34848840\n",
       "84   GAZP   D  29/12/21  343.30  344.48  337.13  340.33  43005060\n",
       "85   GAZP   D  30/12/21  340.75  344.00  337.40  342.39  40853240\n",
       "\n",
       "[86 rows x 8 columns]"
      ]
     },
     "execution_count": 3,
     "metadata": {},
     "output_type": "execute_result"
    }
   ],
   "source": [
    "file_name = \"GAZP_210901_211231_p2.csv\"\n",
    "\n",
    "shares_df = pd \\\n",
    "    .read_csv(file_name) \\\n",
    "    .rename(columns=lambda name: name[1:-1].lower()) \\\n",
    "    .drop(\"time\", axis=1)\n",
    "\n",
    "shares_df\n"
   ]
  },
  {
   "cell_type": "code",
   "execution_count": 9,
   "metadata": {},
   "outputs": [
    {
     "name": "stdout",
     "output_type": "stream",
     "text": [
      "312.89\n",
      "31289.0\n"
     ]
    }
   ],
   "source": [
    "sep_1_share = shares_df[\"close\"][0]\n",
    "print(sep_1_share)\n",
    "print(sep_1_share * 100)\n"
   ]
  },
  {
   "cell_type": "markdown",
   "metadata": {},
   "source": [
    "### Contract\n",
    "\n",
    "GAZR-12.21\n",
    "\n",
    "Expiration: 17.12.2021\n",
    "\n",
    "Last Day: 16.12.2021"
   ]
  },
  {
   "cell_type": "code",
   "execution_count": 21,
   "metadata": {},
   "outputs": [
    {
     "name": "stdout",
     "output_type": "stream",
     "text": [
      "328.39\n",
      "32839.0\n"
     ]
    }
   ],
   "source": [
    "dec_16_share = shares_df[shares_df[\"date\"]==\"16/12/21\"][\"close\"].iloc[0]\n",
    "print(dec_16_share)\n",
    "print(dec_16_share*100)"
   ]
  },
  {
   "cell_type": "code",
   "execution_count": 5,
   "metadata": {},
   "outputs": [],
   "source": [
    "futures_lot = 100\n",
    "futures_on_open = 35419\n",
    "futures_on_close = 32850"
   ]
  },
  {
   "cell_type": "markdown",
   "metadata": {},
   "source": [
    "### futures dearer than shores\n",
    "13.12.2021"
   ]
  },
  {
   "cell_type": "code",
   "execution_count": 6,
   "metadata": {},
   "outputs": [],
   "source": [
    "shores_on_13dec = 307.26\n",
    "futures_on_13dec = 31704\n"
   ]
  }
 ],
 "metadata": {
  "interpreter": {
   "hash": "916dbcbb3f70747c44a77c7bcd40155683ae19c65e1c03b4aa3499c5328201f1"
  },
  "kernelspec": {
   "display_name": "Python 3.8.10 64-bit",
   "language": "python",
   "name": "python3"
  },
  "language_info": {
   "codemirror_mode": {
    "name": "ipython",
    "version": 3
   },
   "file_extension": ".py",
   "mimetype": "text/x-python",
   "name": "python",
   "nbconvert_exporter": "python",
   "pygments_lexer": "ipython3",
   "version": "3.8.10"
  },
  "orig_nbformat": 4
 },
 "nbformat": 4,
 "nbformat_minor": 2
}
